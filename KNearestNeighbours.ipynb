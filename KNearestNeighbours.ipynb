{
  "nbformat": 4,
  "nbformat_minor": 0,
  "metadata": {
    "colab": {
      "name": "KNearestNeighbours.ipynb",
      "provenance": [],
      "collapsed_sections": [],
      "authorship_tag": "ABX9TyMhknRVGxgvCHE0GDDGc9Sx",
      "include_colab_link": true
    },
    "kernelspec": {
      "name": "python3",
      "display_name": "Python 3"
    }
  },
  "cells": [
    {
      "cell_type": "markdown",
      "metadata": {
        "id": "view-in-github",
        "colab_type": "text"
      },
      "source": [
        "<a href=\"https://colab.research.google.com/github/JohanvandenHeuvel/implementations/blob/main/KNearestNeighbours.ipynb\" target=\"_parent\"><img src=\"https://colab.research.google.com/assets/colab-badge.svg\" alt=\"Open In Colab\"/></a>"
      ]
    },
    {
      "cell_type": "code",
      "metadata": {
        "id": "ZMxhO7aqZtyg"
      },
      "source": [
        "import numpy as np\n",
        "import matplotlib.pylab as plt"
      ],
      "execution_count": 1,
      "outputs": []
    },
    {
      "cell_type": "code",
      "metadata": {
        "id": "NT-VzYs1ZznE"
      },
      "source": [
        "def generate_data(mean=[0, 0], cov=np.identity(2), size=1, num_gaussians=10):\n",
        "  \"\"\"\n",
        "  Generate data from a gaussian mixture with uniform probability\n",
        "  \"\"\"\n",
        "\n",
        "  means = np.random.multivariate_normal(mean=mean, cov=cov, size=num_gaussians)\n",
        "\n",
        "  data = []\n",
        "  for i in range(size):\n",
        "    mean = means[np.random.choice(np.arange(num_gaussians))]\n",
        "    data.append(np.random.multivariate_normal(mean=mean, cov=cov/5))\n",
        "\n",
        "  return np.array(data)"
      ],
      "execution_count": 2,
      "outputs": []
    },
    {
      "cell_type": "code",
      "metadata": {
        "id": "gXgx067Ml1Gk"
      },
      "source": [
        "I = np.identity(2)\n",
        "classA = generate_data(mean=[1,0], cov=I, size=100)\n",
        "classB = generate_data(mean=[0,1], cov=I, size=100)"
      ],
      "execution_count": 3,
      "outputs": []
    },
    {
      "cell_type": "code",
      "metadata": {
        "colab": {
          "base_uri": "https://localhost:8080/",
          "height": 281
        },
        "id": "zmzAM92gbDtT",
        "outputId": "c2a8efa5-fda9-45bd-d78d-f4b90675d361"
      },
      "source": [
        "plt.scatter(x = classA.T[0], y = classA.T[1], label=\"A\")\n",
        "plt.scatter(x = classB.T[0], y = classB.T[1], label=\"B\")\n",
        "plt.legend()\n",
        "plt.title(\"class data\")\n",
        "plt.show()"
      ],
      "execution_count": 4,
      "outputs": [
        {
          "output_type": "display_data",
          "data": {
            "image/png": "[encoded data removed]",
            "text/plain": [
              "<Figure size 432x288 with 1 Axes>"
            ]
          },
          "metadata": {
            "tags": [],
            "needs_background": "light"
          }
        }
      ]
    },
    {
      "cell_type": "code",
      "metadata": {
        "id": "coNfumPrf8DW"
      },
      "source": [
        "x_train = np.vstack((classA, classB))\n",
        "y_train = np.hstack((np.zeros(shape=len(classA)), np.ones(shape=len(classB))))"
      ],
      "execution_count": 5,
      "outputs": []
    },
    {
      "cell_type": "code",
      "metadata": {
        "id": "7C6CfnfVdHEv"
      },
      "source": [
        "def k_nearest_neighbors(x_i, x, y, k):\n",
        "  distance = np.linalg.norm(x_i - x, 2, axis=1)\n",
        "  idx = np.argpartition(distance, k)[:k]\n",
        "  return np.mean(y[idx])"
      ],
      "execution_count": 6,
      "outputs": []
    },
    {
      "cell_type": "code",
      "metadata": {
        "id": "UqkBVLZ6jTCL"
      },
      "source": [
        "classA_test = generate_data(mean=[1,0], cov=I, size=10**4)\n",
        "classB_test = generate_data(mean=[0,1], cov=I, size=10**4)\n",
        "\n",
        "x_test = np.vstack((classA_test, classB_test))\n",
        "y_test = np.hstack((np.zeros(shape=len(classA_test)), np.ones(shape=len(classB_test))))"
      ],
      "execution_count": 7,
      "outputs": []
    },
    {
      "cell_type": "code",
      "metadata": {
        "id": "KkwNgHC_vq8s"
      },
      "source": [
        "k_list = [100, 80, 65, 45, 35, 25, 20, 15, 10, 5, 3, 1]"
      ],
      "execution_count": 13,
      "outputs": []
    },
    {
      "cell_type": "code",
      "metadata": {
        "id": "XZRIxLQUmcl5"
      },
      "source": [
        "# do k_nearest_neighbors using the train set and evaluate on test set\n",
        "train_losses = []\n",
        "for k in k_list:\n",
        "  y_hat = [k_nearest_neighbors(x_i, x_train, y_train, k) for x_i in x_test]\n",
        "  loss = np.mean(np.power(y_test - y_hat, 2))\n",
        "  train_losses.append(loss)"
      ],
      "execution_count": 8,
      "outputs": []
    },
    {
      "cell_type": "code",
      "metadata": {
        "id": "I-gZk8_9nrCY"
      },
      "source": [
        "# do k_nearest_neighbors using the test set and evaluate on test set\n",
        "test_losses = []\n",
        "for k in k_list:\n",
        "  y_hat = [k_nearest_neighbors(x_i, x_test, y_test, k) for x_i in x_test]\n",
        "  loss = np.mean(np.power(y_test - y_hat, 2))\n",
        "  test_losses.append(loss)"
      ],
      "execution_count": 9,
      "outputs": []
    },
    {
      "cell_type": "code",
      "metadata": {
        "colab": {
          "base_uri": "https://localhost:8080/",
          "height": 279
        },
        "id": "hSd14j5sn3Ln",
        "outputId": "267bddca-9a16-4689-e50d-2c33eae2ad28"
      },
      "source": [
        "plt.plot(train_losses, label=\"train\")\n",
        "plt.plot(test_losses, label=\"test\")\n",
        "plt.ylabel(\"loss\")\n",
        "plt.xlabel(\"k\")\n",
        "plt.xticks(np.arange(len(k_list)), labels=k_list)\n",
        "plt.legend()\n",
        "plt.show()"
      ],
      "execution_count": 15,
      "outputs": [
        {
          "output_type": "display_data",
          "data": {
            "image/png": "[encoded data removed]",
            "text/plain": [
              "<Figure size 432x288 with 1 Axes>"
            ]
          },
          "metadata": {
            "tags": [],
            "needs_background": "light"
          }
        }
      ]
    },
    {
      "cell_type": "code",
      "metadata": {
        "id": "vSdxkcd4vcQh"
      },
      "source": [
        ""
      ],
      "execution_count": null,
      "outputs": []
    }
  ]
}