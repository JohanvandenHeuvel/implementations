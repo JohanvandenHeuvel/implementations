{
  "nbformat": 4,
  "nbformat_minor": 0,
  "metadata": {
    "colab": {
      "name": "ExpectationMaximization.ipynb",
      "provenance": [],
      "collapsed_sections": [],
      "authorship_tag": "ABX9TyO5QPKgCDt+FVbALqGlx+H3",
      "include_colab_link": true
    },
    "kernelspec": {
      "name": "python3",
      "display_name": "Python 3"
    }
  },
  "cells": [
    {
      "cell_type": "markdown",
      "metadata": {
        "id": "view-in-github",
        "colab_type": "text"
      },
      "source": [
        "<a href=\"https://colab.research.google.com/github/JohanvandenHeuvel/implementations/blob/main/ExpectationMaximization.ipynb\" target=\"_parent\"><img src=\"https://colab.research.google.com/assets/colab-badge.svg\" alt=\"Open In Colab\"/></a>"
      ]
    },
    {
      "cell_type": "markdown",
      "metadata": {
        "id": "Fw5apmc9OoM-"
      },
      "source": [
        "From **Wikipedia**:\n",
        "\n",
        "*In statistics, an expectation–maximization (EM) algorithm is an iterative method to find (local) maximum likelihood or maximum a posteriori (MAP) estimates of parameters in statistical models, where the model depends on unobserved latent variables. The EM iteration alternates between performing an expectation (E) step, which creates a function for the expectation of the log-likelihood evaluated using the current estimate for the parameters, and a maximization (M) step, which computes parameters maximizing the expected log-likelihood found on the E step. These parameter-estimates are then used to determine the distribution of the latent variables in the next E step.*"
      ]
    },
    {
      "cell_type": "code",
      "metadata": {
        "id": "x8l_VAVyOvVP"
      },
      "source": [
        "# imports\n",
        "import numpy as np\n",
        "import matplotlib.pylab as plt\n",
        "import scipy.stats"
      ],
      "execution_count": 22,
      "outputs": []
    },
    {
      "cell_type": "code",
      "metadata": {
        "colab": {
          "base_uri": "https://localhost:8080/",
          "height": 313
        },
        "id": "ShbQfuXbPAaV",
        "outputId": "2bfbacfa-6b57-4387-c9fd-fcda579148f0"
      },
      "source": [
        "n_samples = 1000\n",
        "mu = 0\n",
        "sigma=1\n",
        "samples =  np.random.normal(mu, sigma, n_samples)\n",
        "\n",
        "plt.hist(samples, bins=20, density=True)\n",
        "plt.xlabel('x')\n",
        "plt.ylabel('frequencies')\n",
        "plt.title('Frequency Histogram')"
      ],
      "execution_count": 7,
      "outputs": [
        {
          "output_type": "execute_result",
          "data": {
            "text/plain": [
              "Text(0.5, 1.0, 'Frequency Histogram')"
            ]
          },
          "metadata": {
            "tags": []
          },
          "execution_count": 7
        },
        {
          "output_type": "display_data",
          "data": {
            "image/png": "[encoded data removed]",
            "text/plain": [
              "<Figure size 432x288 with 1 Axes>"
            ]
          },
          "metadata": {
            "tags": [],
            "needs_background": "light"
          }
        }
      ]
    },
    {
      "cell_type": "code",
      "metadata": {
        "colab": {
          "base_uri": "https://localhost:8080/",
          "height": 313
        },
        "id": "yW2hcZ2EPulo",
        "outputId": "4e7e7301-4ce1-4fb8-bddf-6dc81bae7e80"
      },
      "source": [
        "n_samples = 1000\n",
        "p = 0.33\n",
        "samples =  np.random.binomial(1, p, n_samples)\n",
        "\n",
        "plt.hist(samples, bins=2, density=True)\n",
        "plt.xlabel('x')\n",
        "plt.ylabel('frequencies')\n",
        "\n",
        "plt.title('Frequency Histogram')"
      ],
      "execution_count": 11,
      "outputs": [
        {
          "output_type": "execute_result",
          "data": {
            "text/plain": [
              "Text(0.5, 1.0, 'Frequency Histogram')"
            ]
          },
          "metadata": {
            "tags": []
          },
          "execution_count": 11
        },
        {
          "output_type": "display_data",
          "data": {
            "image/png": "[encoded data removed]",
            "text/plain": [
              "<Figure size 432x288 with 1 Axes>"
            ]
          },
          "metadata": {
            "tags": [],
            "needs_background": "light"
          }
        }
      ]
    },
    {
      "cell_type": "code",
      "metadata": {
        "id": "zr1_BQS2QpyF"
      },
      "source": [
        "# data\n",
        "n_samples = 1000\n",
        "\n",
        "sample_A =  np.random.normal(0, 1, 300)\n",
        "sample_B =  np.random.normal(3, 1, 100)\n",
        "\n",
        "samples = np.concatenate((sample_A, sample_B))"
      ],
      "execution_count": 100,
      "outputs": []
    },
    {
      "cell_type": "code",
      "metadata": {
        "id": "NVXX-f-iRhN7"
      },
      "source": [
        "# parameters\n",
        "estimated_sigma_A = np.random.rand(1)\n",
        "estimated_sigma_B = np.random.rand(1)\n",
        "\n",
        "estimated_mu_A = np.random.rand(1)\n",
        "estimated_mu_B = np.random.rand(1)\n",
        "\n",
        "p = np.random.rand(1)\n",
        "estimated_p_A = p\n",
        "estimated_p_B = 1 - p"
      ],
      "execution_count": 101,
      "outputs": []
    },
    {
      "cell_type": "code",
      "metadata": {
        "id": "AYeJ3qWgVfFO"
      },
      "source": [
        "# functions\n",
        "def pdf_gaussian(x, mu, sigma):\n",
        "  return np.exp(-1/2 * np.power((x - mu)/sigma, 2))/(sigma * np.sqrt(2*np.pi))\n",
        "\n",
        "def expected_membership_value_A(x):\n",
        "  Pa = pdf_gaussian(x, estimated_mu_A, estimated_sigma_A)\n",
        "  Pb = pdf_gaussian(x, estimated_mu_B, estimated_sigma_B)\n",
        "\n",
        "  return Pa*estimated_p_A / (Pa*estimated_p_A + Pb*estimated_p_B)\n",
        "\n",
        "def expected_membership_value_B(x):\n",
        "  Pa = pdf_gaussian(x, estimated_mu_A, estimated_sigma_A)\n",
        "  Pb = pdf_gaussian(x, estimated_mu_B, estimated_sigma_B)\n",
        "\n",
        "  return Pb*estimated_p_B / (Pa*estimated_p_A + Pb*estimated_p_B)"
      ],
      "execution_count": 102,
      "outputs": []
    },
    {
      "cell_type": "markdown",
      "metadata": {
        "id": "PdPUW5IwTvA-"
      },
      "source": [
        "$P(A|x_i) = P(x_i|A)p_A \\div (P(x_i|A)p_A + P(x_i|B)p_B)$"
      ]
    },
    {
      "cell_type": "code",
      "metadata": {
        "colab": {
          "base_uri": "https://localhost:8080/"
        },
        "id": "RlUIljWyPZwi",
        "outputId": "639d0013-7a36-42e5-9db0-5aa8a2b7e3da"
      },
      "source": [
        "# ME loop\n",
        "for i in range(100):\n",
        "  # 1. Expectation Step\n",
        "  # compute membership weights\n",
        "  memberships_weights_A = expected_membership_value_A(samples)\n",
        "  memberships_weights_B = expected_membership_value_B(samples)\n",
        "\n",
        "  # 2. Maximization Step\n",
        "  # compute parameters\n",
        "  estimated_p_A = np.mean(memberships_weights_A)\n",
        "  estimated_p_B = np.mean(memberships_weights_B)\n",
        "\n",
        "  estimated_mu_A = np.dot(memberships_weights_A, samples) / np.sum(memberships_weights_A)\n",
        "  estimated_mu_B = np.dot(memberships_weights_B, samples) / np.sum(memberships_weights_B)\n",
        "\n",
        "  estimated_sigma_A = np.sqrt(np.dot(memberships_weights_A, np.power(samples - estimated_mu_A, 2)) / np.sum(memberships_weights_A))\n",
        "  estimated_sigma_B = np.sqrt(np.dot(memberships_weights_B, np.power(samples - estimated_mu_B, 2)) / np.sum(memberships_weights_B))\n",
        "\n",
        "  # print(\"==== {} ====\".format(i))\n",
        "print(estimated_p_A, estimated_p_B)\n",
        "print(estimated_mu_A, estimated_mu_B)\n",
        "print(estimated_sigma_A, estimated_sigma_B)"
      ],
      "execution_count": 103,
      "outputs": [
        {
          "output_type": "stream",
          "text": [
            "0.734892495838499 0.265107504161501\n",
            "-0.2644507594201043 3.1518057213692092\n",
            "0.9620227955858169 0.9339072764366907\n"
          ],
          "name": "stdout"
        }
      ]
    },
    {
      "cell_type": "code",
      "metadata": {
        "id": "Pc5TEg4IW03S"
      },
      "source": [
        ""
      ],
      "execution_count": 95,
      "outputs": []
    }
  ]
}