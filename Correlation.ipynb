{
  "nbformat": 4,
  "nbformat_minor": 0,
  "metadata": {
    "colab": {
      "name": "Correlation.ipynb",
      "provenance": [],
      "collapsed_sections": [],
      "authorship_tag": "ABX9TyPFJ5KtWCXZtyY5QsBRqd1C",
      "include_colab_link": true
    },
    "kernelspec": {
      "name": "python3",
      "display_name": "Python 3"
    }
  },
  "cells": [
    {
      "cell_type": "markdown",
      "metadata": {
        "id": "view-in-github",
        "colab_type": "text"
      },
      "source": [
        "<a href=\"https://colab.research.google.com/github/JohanvandenHeuvel/implementations/blob/main/Correlation.ipynb\" target=\"_parent\"><img src=\"https://colab.research.google.com/assets/colab-badge.svg\" alt=\"Open In Colab\"/></a>"
      ]
    },
    {
      "cell_type": "code",
      "metadata": {
        "id": "SMKqwUJ5Ppn0"
      },
      "source": [
        "import numpy as np\n",
        "import matplotlib.pylab as plt\n",
        "from scipy import stats"
      ],
      "execution_count": 1,
      "outputs": []
    },
    {
      "cell_type": "markdown",
      "metadata": {
        "id": "z8HokQNcP7de"
      },
      "source": [
        "Create the data"
      ]
    },
    {
      "cell_type": "code",
      "metadata": {
        "id": "z_4gIwOaPyBz"
      },
      "source": [
        "num_datapoints = 100\n",
        "line = np.arange(num_datapoints)\n",
        "noise = np.random.normal(loc=0, scale=5, size=num_datapoints)\n",
        "x = line + noise\n",
        "\n",
        "slope = 1.5\n",
        "intercept = 0\n",
        "\n",
        "y =  intercept + slope * np.append(x, np.flip(x))"
      ],
      "execution_count": 2,
      "outputs": []
    },
    {
      "cell_type": "code",
      "metadata": {
        "colab": {
          "base_uri": "https://localhost:8080/",
          "height": 281
        },
        "id": "IRkZDNF3P-3h",
        "outputId": "e298d40a-47ef-44f8-c32c-3a7ba0cbdc82"
      },
      "source": [
        "plt.plot(y, 'o')\n",
        "plt.title(\"linear data\")\n",
        "plt.show()"
      ],
      "execution_count": 3,
      "outputs": [
        {
          "output_type": "display_data",
          "data": {
            "image/png": "[encoded data removed]",
            "text/plain": [
              "<Figure size 432x288 with 1 Axes>"
            ]
          },
          "metadata": {
            "tags": [],
            "needs_background": "light"
          }
        }
      ]
    },
    {
      "cell_type": "markdown",
      "metadata": {
        "id": "beuY7AMPQt24"
      },
      "source": [
        "Now discretize the data by binning and use the chi-squared test instead "
      ]
    },
    {
      "cell_type": "code",
      "metadata": {
        "colab": {
          "base_uri": "https://localhost:8080/",
          "height": 295
        },
        "id": "DpvPkcfFQXSu",
        "outputId": "552f8324-9785-4bbe-ede8-b94c1f37d192"
      },
      "source": [
        "num_bins = 3\n",
        "\n",
        "fig, ax = plt.subplots(nrows=1, ncols=2, sharey=True)\n",
        "\n",
        "ax[0].hist(y, bins=num_bins)\n",
        "ax[0].set_title(\"observed\")\n",
        "ax[0].set_xlabel(\"value\")\n",
        "ax[0].set_ylabel(\"frequency\")\n",
        "\n",
        "ax[1].hist(intercept + slope * np.append(line, np.flip(line)), bins=num_bins)\n",
        "ax[1].set_title(\"expected\")\n",
        "ax[1].set_xlabel(\"value\")\n",
        "\n",
        "plt.show()\n",
        "\n",
        "hist, bin_edges = np.histogram(y, bins=num_bins)"
      ],
      "execution_count": 32,
      "outputs": [
        {
          "output_type": "display_data",
          "data": {
            "image/png": "[encoded data removed]",
            "text/plain": [
              "<Figure size 432x288 with 2 Axes>"
            ]
          },
          "metadata": {
            "tags": [],
            "needs_background": "light"
          }
        }
      ]
    },
    {
      "cell_type": "code",
      "metadata": {
        "id": "17BB3F-jkXpT"
      },
      "source": [
        "data = []\n",
        "for i in range(len(bin_edges)-1):\n",
        "  avg = (bin_edges[i] + bin_edges[i+1])/2\n",
        "  data = np.append(data, np.repeat(avg, hist[i]))"
      ],
      "execution_count": 33,
      "outputs": []
    },
    {
      "cell_type": "code",
      "metadata": {
        "colab": {
          "base_uri": "https://localhost:8080/"
        },
        "id": "PGzwnro-RFPs",
        "outputId": "2872db67-8c25-414e-f1d4-fac62c2e723a"
      },
      "source": [
        "stats.chisquare(data)"
      ],
      "execution_count": 34,
      "outputs": [
        {
          "output_type": "execute_result",
          "data": {
            "text/plain": [
              "Power_divergenceResult(statistic=4334.674481099271, pvalue=0.0)"
            ]
          },
          "metadata": {
            "tags": []
          },
          "execution_count": 34
        }
      ]
    },
    {
      "cell_type": "markdown",
      "metadata": {
        "id": "u8fspybHSMVX"
      },
      "source": [
        "This test tests if the observed data y has the same frequencies as the expected data, which is equal frequencies in every bin by default. The result seems to be significant, i.e. we can reject the null hypothesis that the observed data is different from the expected data."
      ]
    }
  ]
}