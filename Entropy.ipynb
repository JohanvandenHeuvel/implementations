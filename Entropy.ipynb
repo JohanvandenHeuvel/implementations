{
  "nbformat": 4,
  "nbformat_minor": 0,
  "metadata": {
    "colab": {
      "name": "Entropy.ipynb",
      "provenance": [],
      "collapsed_sections": [],
      "authorship_tag": "ABX9TyN0PutynNJW4lvawYts2H3x",
      "include_colab_link": true
    },
    "kernelspec": {
      "name": "python3",
      "display_name": "Python 3"
    }
  },
  "cells": [
    {
      "cell_type": "markdown",
      "metadata": {
        "id": "view-in-github",
        "colab_type": "text"
      },
      "source": [
        "<a href=\"https://colab.research.google.com/github/JohanvandenHeuvel/implementations/blob/main/Entropy.ipynb\" target=\"_parent\"><img src=\"https://colab.research.google.com/assets/colab-badge.svg\" alt=\"Open In Colab\"/></a>"
      ]
    },
    {
      "cell_type": "code",
      "metadata": {
        "id": "QLOPLfOnM-Xt"
      },
      "source": [
        "import numpy as np\n",
        "import matplotlib.pyplot as plt"
      ],
      "execution_count": 1,
      "outputs": []
    },
    {
      "cell_type": "markdown",
      "metadata": {
        "id": "6eLey-t-NIgs"
      },
      "source": [
        "Entropy, as a measure of information, has 3 properties it is supposed to follow:\n",
        "\n",
        "\n",
        "1.   Entropy has to be positivive\n",
        "2.   The entropy of subsequent events has to sum\n",
        "3.   Rare events should have high entropy\n",
        "\n",
        "Thus the entropy of X is defined as:\n",
        "\n",
        "$H(X) = -\\Sigma_i P(x_i) logP(x_i)$\n",
        "\n",
        "Now we will the entropy in action."
      ]
    },
    {
      "cell_type": "code",
      "metadata": {
        "colab": {
          "base_uri": "https://localhost:8080/",
          "height": 313
        },
        "id": "1m2Qz5PwNCUk",
        "outputId": "42aa71cc-0ff0-42aa-afbe-38cb9526107f"
      },
      "source": [
        "normal_samples = np.random.normal(3, size=1000)\n",
        "normal_samples = np.round(normal_samples)\n",
        "\n",
        "plt.hist(normal_samples, bins = len(np.unique(normal_samples)))\n",
        "plt.xlabel('x')\n",
        "plt.ylabel('Frequency')\n",
        "plt.title('Normal distribution histogram')"
      ],
      "execution_count": 2,
      "outputs": [
        {
          "output_type": "execute_result",
          "data": {
            "text/plain": [
              "Text(0.5, 1.0, 'Normal distribution histogram')"
            ]
          },
          "metadata": {
            "tags": []
          },
          "execution_count": 2
        },
        {
          "output_type": "display_data",
          "data": {
            "image/png": "[encoded data removed]",
            "text/plain": [
              "<Figure size 432x288 with 1 Axes>"
            ]
          },
          "metadata": {
            "tags": [],
            "needs_background": "light"
          }
        }
      ]
    },
    {
      "cell_type": "code",
      "metadata": {
        "colab": {
          "base_uri": "https://localhost:8080/",
          "height": 313
        },
        "id": "WlE4wA56TMZ4",
        "outputId": "aaf66bbf-d1ae-4539-ebd4-cc83708e23c2"
      },
      "source": [
        "uniform_samples = np.random.uniform(size=1000) * 6\n",
        "uniform_samples = np.round(uniform_samples)\n",
        "\n",
        "plt.hist(uniform_samples, bins = len(np.unique(uniform_samples)))\n",
        "plt.xlabel('x')\n",
        "plt.ylabel('Frequency')\n",
        "plt.title('Uniform distribution histogram')"
      ],
      "execution_count": 3,
      "outputs": [
        {
          "output_type": "execute_result",
          "data": {
            "text/plain": [
              "Text(0.5, 1.0, 'Uniform distribution histogram')"
            ]
          },
          "metadata": {
            "tags": []
          },
          "execution_count": 3
        },
        {
          "output_type": "display_data",
          "data": {
            "image/png": "[encoded data removed]",
            "text/plain": [
              "<Figure size 432x288 with 1 Axes>"
            ]
          },
          "metadata": {
            "tags": [],
            "needs_background": "light"
          }
        }
      ]
    },
    {
      "cell_type": "markdown",
      "metadata": {
        "id": "y3FUXnRKOc56"
      },
      "source": [
        "We can write the entropy function easily using np.arrays"
      ]
    },
    {
      "cell_type": "code",
      "metadata": {
        "id": "6asP5C-EOVMv"
      },
      "source": [
        "def entropy(probs):\n",
        "  return -np.sum(probs * np.log2(probs))"
      ],
      "execution_count": 4,
      "outputs": []
    },
    {
      "cell_type": "markdown",
      "metadata": {
        "id": "QsxGNStETttB"
      },
      "source": [
        "Below we can see that with the same number of samples, and an equal size event space, that the uniform distribution has a higher entropy."
      ]
    },
    {
      "cell_type": "code",
      "metadata": {
        "colab": {
          "base_uri": "https://localhost:8080/"
        },
        "id": "S2u1c1tgRVme",
        "outputId": "0e6da9b7-7a2c-4064-9700-8dce2b8e65fc"
      },
      "source": [
        "events, freq = np.unique(normal_samples, return_counts=True)\n",
        "probs = freq / sum(freq)\n",
        "entropy(probs)"
      ],
      "execution_count": 5,
      "outputs": [
        {
          "output_type": "execute_result",
          "data": {
            "text/plain": [
              "2.1359044832972764"
            ]
          },
          "metadata": {
            "tags": []
          },
          "execution_count": 5
        }
      ]
    },
    {
      "cell_type": "code",
      "metadata": {
        "colab": {
          "base_uri": "https://localhost:8080/"
        },
        "id": "6qSvpO44Towt",
        "outputId": "fa944e7c-8a09-4c29-bc33-2e3f0159cccc"
      },
      "source": [
        "events, freq = np.unique(uniform_samples, return_counts=True)\n",
        "probs = freq / sum(freq)\n",
        "entropy(probs)"
      ],
      "execution_count": 6,
      "outputs": [
        {
          "output_type": "execute_result",
          "data": {
            "text/plain": [
              "2.755970761151119"
            ]
          },
          "metadata": {
            "tags": []
          },
          "execution_count": 6
        }
      ]
    },
    {
      "cell_type": "markdown",
      "metadata": {
        "id": "AaNaNUACUoia"
      },
      "source": [
        "Now this makes sense if we look at the probabilities"
      ]
    },
    {
      "cell_type": "code",
      "metadata": {
        "colab": {
          "base_uri": "https://localhost:8080/"
        },
        "id": "wW97ksGJVJTS",
        "outputId": "b6a5bdb7-16f9-4e22-e5b5-00cb004108d7"
      },
      "source": [
        "_, freq = np.unique(normal_samples, return_counts=True)\n",
        "freq = np.flip(np.sort(freq))\n",
        "probs = freq / sum(freq)\n",
        "probs"
      ],
      "execution_count": 7,
      "outputs": [
        {
          "output_type": "execute_result",
          "data": {
            "text/plain": [
              "array([0.35 , 0.269, 0.238, 0.068, 0.065, 0.005, 0.003, 0.001, 0.001])"
            ]
          },
          "metadata": {
            "tags": []
          },
          "execution_count": 7
        }
      ]
    },
    {
      "cell_type": "code",
      "metadata": {
        "colab": {
          "base_uri": "https://localhost:8080/"
        },
        "id": "MGYvTmhoS-09",
        "outputId": "910f8734-9ca9-4cf3-e877-016016ec1a9d"
      },
      "source": [
        "_, freq = np.unique(uniform_samples, return_counts=True)\n",
        "freq = np.flip(np.sort(freq))\n",
        "probs = freq / sum(freq)\n",
        "probs"
      ],
      "execution_count": 8,
      "outputs": [
        {
          "output_type": "execute_result",
          "data": {
            "text/plain": [
              "array([0.172, 0.171, 0.168, 0.159, 0.157, 0.094, 0.079])"
            ]
          },
          "metadata": {
            "tags": []
          },
          "execution_count": 8
        }
      ]
    }
  ]
}