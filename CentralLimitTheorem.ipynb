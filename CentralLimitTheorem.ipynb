{
  "nbformat": 4,
  "nbformat_minor": 0,
  "metadata": {
    "colab": {
      "name": "CentralLimitTheorem.ipynb",
      "provenance": [],
      "collapsed_sections": [],
      "authorship_tag": "ABX9TyNcz2XcMvZeOhdLEMEvBIHT",
      "include_colab_link": true
    },
    "kernelspec": {
      "name": "python3",
      "display_name": "Python 3"
    }
  },
  "cells": [
    {
      "cell_type": "markdown",
      "metadata": {
        "id": "view-in-github",
        "colab_type": "text"
      },
      "source": [
        "<a href=\"https://colab.research.google.com/github/JohanvandenHeuvel/implementations/blob/main/CentralLimitTheorem.ipynb\" target=\"_parent\"><img src=\"https://colab.research.google.com/assets/colab-badge.svg\" alt=\"Open In Colab\"/></a>"
      ]
    },
    {
      "cell_type": "code",
      "metadata": {
        "id": "HbPk1-bGXmuB"
      },
      "source": [
        "import numpy as np\n",
        "import matplotlib.pyplot as plt"
      ],
      "execution_count": 1,
      "outputs": []
    },
    {
      "cell_type": "code",
      "metadata": {
        "colab": {
          "base_uri": "https://localhost:8080/",
          "height": 313
        },
        "id": "dBXCb81xXs2A",
        "outputId": "ff9a9e4b-26f4-4bb6-b826-c0269740cf7d"
      },
      "source": [
        "sample_means = []\n",
        "for i in range(10000):\n",
        "  sample_means.append(np.mean((np.random.uniform(size=2))))\n",
        "\n",
        "plt.hist(sample_means, bins = 20, density=True)\n",
        "plt.xlabel('x')\n",
        "plt.ylabel('Density')\n",
        "plt.title('Empirical Density')"
      ],
      "execution_count": 2,
      "outputs": [
        {
          "output_type": "execute_result",
          "data": {
            "text/plain": [
              "Text(0.5, 1.0, 'Empirical Density')"
            ]
          },
          "metadata": {
            "tags": []
          },
          "execution_count": 2
        },
        {
          "output_type": "display_data",
          "data": {
            "image/png": "[encoded data removed]",
            "text/plain": [
              "<Figure size 432x288 with 1 Axes>"
            ]
          },
          "metadata": {
            "tags": [],
            "needs_background": "light"
          }
        }
      ]
    },
    {
      "cell_type": "code",
      "metadata": {
        "colab": {
          "base_uri": "https://localhost:8080/",
          "height": 313
        },
        "id": "HCR9_dV7X41d",
        "outputId": "eceab54e-0d02-4e39-ca61-a456da0f5bbb"
      },
      "source": [
        "sample_means = []\n",
        "for i in range(10000):\n",
        "  sample_means.append(np.mean((np.random.uniform(size=4))))\n",
        "\n",
        "plt.hist(sample_means, bins = 20, density=True)\n",
        "plt.xlabel('x')\n",
        "plt.ylabel('Density')\n",
        "plt.title('Empirical Density')"
      ],
      "execution_count": 3,
      "outputs": [
        {
          "output_type": "execute_result",
          "data": {
            "text/plain": [
              "Text(0.5, 1.0, 'Empirical Density')"
            ]
          },
          "metadata": {
            "tags": []
          },
          "execution_count": 3
        },
        {
          "output_type": "display_data",
          "data": {
            "image/png": "[encoded data removed]",
            "text/plain": [
              "<Figure size 432x288 with 1 Axes>"
            ]
          },
          "metadata": {
            "tags": [],
            "needs_background": "light"
          }
        }
      ]
    },
    {
      "cell_type": "code",
      "metadata": {
        "colab": {
          "base_uri": "https://localhost:8080/",
          "height": 313
        },
        "id": "rKU1L3MbYIBw",
        "outputId": "9500c32a-087a-4032-dc79-0a9e781e3bd9"
      },
      "source": [
        "sample_means = []\n",
        "for i in range(10000):\n",
        "  sample_means.append(np.mean((np.random.uniform(size=8))))\n",
        "\n",
        "plt.hist(sample_means, bins = 20, density=True)\n",
        "plt.xlabel('x')\n",
        "plt.ylabel('Density')\n",
        "plt.title('Empirical Density')"
      ],
      "execution_count": 4,
      "outputs": [
        {
          "output_type": "execute_result",
          "data": {
            "text/plain": [
              "Text(0.5, 1.0, 'Empirical Density')"
            ]
          },
          "metadata": {
            "tags": []
          },
          "execution_count": 4
        },
        {
          "output_type": "display_data",
          "data": {
            "image/png": "[encoded data removed]",
            "text/plain": [
              "<Figure size 432x288 with 1 Axes>"
            ]
          },
          "metadata": {
            "tags": [],
            "needs_background": "light"
          }
        }
      ]
    },
    {
      "cell_type": "code",
      "metadata": {
        "colab": {
          "base_uri": "https://localhost:8080/",
          "height": 313
        },
        "id": "bf8qBrcFYllm",
        "outputId": "03e410ed-86ea-4d99-ea4d-2fba693b06de"
      },
      "source": [
        "sample_means = []\n",
        "for i in range(10000):\n",
        "  sample_means.append(np.mean((np.random.uniform(size=16))))\n",
        "\n",
        "plt.hist(sample_means, bins = 20, density=True)\n",
        "plt.xlabel('x')\n",
        "plt.ylabel('Density')\n",
        "plt.title('Empirical Density')"
      ],
      "execution_count": 5,
      "outputs": [
        {
          "output_type": "execute_result",
          "data": {
            "text/plain": [
              "Text(0.5, 1.0, 'Empirical Density')"
            ]
          },
          "metadata": {
            "tags": []
          },
          "execution_count": 5
        },
        {
          "output_type": "display_data",
          "data": {
            "image/png": "[encoded data removed]",
            "text/plain": [
              "<Figure size 432x288 with 1 Axes>"
            ]
          },
          "metadata": {
            "tags": [],
            "needs_background": "light"
          }
        }
      ]
    },
    {
      "cell_type": "code",
      "metadata": {
        "id": "NQnkFmKwYnmA"
      },
      "source": [
        ""
      ],
      "execution_count": 5,
      "outputs": []
    }
  ]
}